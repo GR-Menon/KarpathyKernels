{
 "cells": [
  {
   "cell_type": "code",
   "id": "initial_id",
   "metadata": {
    "collapsed": true,
    "ExecuteTime": {
     "end_time": "2024-07-09T04:23:48.906322Z",
     "start_time": "2024-07-09T04:23:48.651349Z"
    }
   },
   "source": "!nvidia-smi",
   "outputs": [
    {
     "name": "stdout",
     "output_type": "stream",
     "text": [
      "Tue Jul  9 09:53:48 2024       \r\n",
      "+---------------------------------------------------------------------------------------+\r\n",
      "| NVIDIA-SMI 545.23.08              Driver Version: 545.23.08    CUDA Version: 12.3     |\r\n",
      "|-----------------------------------------+----------------------+----------------------+\r\n",
      "| GPU  Name                 Persistence-M | Bus-Id        Disp.A | Volatile Uncorr. ECC |\r\n",
      "| Fan  Temp   Perf          Pwr:Usage/Cap |         Memory-Usage | GPU-Util  Compute M. |\r\n",
      "|                                         |                      |               MIG M. |\r\n",
      "|=========================================+======================+======================|\r\n",
      "|   0  NVIDIA GeForce RTX 4050 ...    On  | 00000000:01:00.0 Off |                  N/A |\r\n",
      "| N/A   36C    P0              17W /  80W |      9MiB /  6141MiB |      0%      Default |\r\n",
      "|                                         |                      |                  N/A |\r\n",
      "+-----------------------------------------+----------------------+----------------------+\r\n",
      "                                                                                         \r\n",
      "+---------------------------------------------------------------------------------------+\r\n",
      "| Processes:                                                                            |\r\n",
      "|  GPU   GI   CI        PID   Type   Process name                            GPU Memory |\r\n",
      "|        ID   ID                                                             Usage      |\r\n",
      "|=======================================================================================|\r\n",
      "|    0   N/A  N/A      3539      G   /usr/lib/xorg/Xorg                            4MiB |\r\n",
      "+---------------------------------------------------------------------------------------+\r\n"
     ]
    }
   ],
   "execution_count": 1
  },
  {
   "metadata": {},
   "cell_type": "markdown",
   "source": "# Imports",
   "id": "90e429b8ee618798"
  },
  {
   "metadata": {
    "ExecuteTime": {
     "end_time": "2024-07-09T04:23:49.806905Z",
     "start_time": "2024-07-09T04:23:48.907921Z"
    }
   },
   "cell_type": "code",
   "source": [
    "import torch \n",
    "import torch.nn.functional as F\n",
    "\n",
    "import random\n",
    "import matplotlib.pyplot as plt\n",
    "%matplotlib inline"
   ],
   "id": "ca702f799d1b002b",
   "outputs": [],
   "execution_count": 2
  },
  {
   "metadata": {
    "ExecuteTime": {
     "end_time": "2024-07-09T04:23:49.811516Z",
     "start_time": "2024-07-09T04:23:49.807710Z"
    }
   },
   "cell_type": "code",
   "source": [
    "words = open('names.txt', 'r').read().splitlines()\n",
    "print(len(words))"
   ],
   "id": "e34c80d1b842988b",
   "outputs": [
    {
     "name": "stdout",
     "output_type": "stream",
     "text": [
      "32033\n"
     ]
    }
   ],
   "execution_count": 3
  },
  {
   "metadata": {},
   "cell_type": "markdown",
   "source": "# Setup Data",
   "id": "eb9f61301f805406"
  },
  {
   "metadata": {
    "ExecuteTime": {
     "end_time": "2024-07-09T04:23:49.828239Z",
     "start_time": "2024-07-09T04:23:49.812009Z"
    }
   },
   "cell_type": "code",
   "source": [
    "# List of characters present in dataset\n",
    "chars = sorted(list(set(''.join(words))))\n",
    "\n",
    "# mapping characters to indices\n",
    "c2i = {c: i+1 for i, c in enumerate(chars)}\n",
    "c2i['.'] = 0\n",
    "\n",
    "# inverse mapping\n",
    "i2c = {i: c for c, i in c2i.items()}\n",
    "vocab_size = len(i2c)\n",
    "print(i2c)"
   ],
   "id": "19751a4e6248c4dc",
   "outputs": [
    {
     "name": "stdout",
     "output_type": "stream",
     "text": [
      "{1: 'a', 2: 'b', 3: 'c', 4: 'd', 5: 'e', 6: 'f', 7: 'g', 8: 'h', 9: 'i', 10: 'j', 11: 'k', 12: 'l', 13: 'm', 14: 'n', 15: 'o', 16: 'p', 17: 'q', 18: 'r', 19: 's', 20: 't', 21: 'u', 22: 'v', 23: 'w', 24: 'x', 25: 'y', 26: 'z', 0: '.'}\n"
     ]
    }
   ],
   "execution_count": 4
  },
  {
   "metadata": {
    "ExecuteTime": {
     "end_time": "2024-07-09T04:23:49.834368Z",
     "start_time": "2024-07-09T04:23:49.829132Z"
    }
   },
   "cell_type": "code",
   "source": [
    "random.seed(42)\n",
    "random.shuffle(words)"
   ],
   "id": "9c285168b2ce3dfb",
   "outputs": [],
   "execution_count": 5
  },
  {
   "metadata": {
    "ExecuteTime": {
     "end_time": "2024-07-09T04:23:50.173324Z",
     "start_time": "2024-07-09T04:23:49.834891Z"
    }
   },
   "cell_type": "code",
   "source": [
    "block_size = 8\n",
    "\n",
    "def build_dataset(words):\n",
    "    x, y = [], []\n",
    "    for word in words:\n",
    "        # context vector to predict next word\n",
    "        context = [0] * block_size\n",
    "        for char in word + '.':\n",
    "            # index of character to predict \n",
    "            idx = c2i[char]\n",
    "            x.append(context)\n",
    "            y.append(idx)\n",
    "            \n",
    "            # updating context vector\n",
    "            context = context[1:] + [idx]\n",
    "            \n",
    "    x, y = torch.tensor(x), torch.tensor(y)\n",
    "    print(x.shape, y.shape)\n",
    "    return x, y\n",
    "\n",
    "# create train val test dataset splits\n",
    "train_split = int(0.8 * len(words))\n",
    "test_split = int(0.9 * len(words))\n",
    "x_train, y_train = build_dataset(words[:train_split])\n",
    "x_val, y_val = build_dataset(words[train_split: test_split])\n",
    "x_test, y_test = build_dataset(words[test_split:])"
   ],
   "id": "9fbcdf30e2d4345e",
   "outputs": [
    {
     "name": "stdout",
     "output_type": "stream",
     "text": [
      "torch.Size([182625, 8]) torch.Size([182625])\n",
      "torch.Size([22655, 8]) torch.Size([22655])\n",
      "torch.Size([22866, 8]) torch.Size([22866])\n"
     ]
    }
   ],
   "execution_count": 6
  },
  {
   "metadata": {
    "ExecuteTime": {
     "end_time": "2024-07-09T04:23:50.176942Z",
     "start_time": "2024-07-09T04:23:50.174070Z"
    }
   },
   "cell_type": "code",
   "source": [
    "for x, y in zip(x_train[:14], y_train[:14]):\n",
    "    print(''.join(i2c[idx.item()] for idx in x), '==>', i2c[y.item()])"
   ],
   "id": "4bac9898646ce",
   "outputs": [
    {
     "name": "stdout",
     "output_type": "stream",
     "text": [
      "........ ==> y\n",
      ".......y ==> u\n",
      "......yu ==> h\n",
      ".....yuh ==> e\n",
      "....yuhe ==> n\n",
      "...yuhen ==> g\n",
      "..yuheng ==> .\n",
      "........ ==> d\n",
      ".......d ==> i\n",
      "......di ==> o\n",
      ".....dio ==> n\n",
      "....dion ==> d\n",
      "...diond ==> r\n",
      "..diondr ==> e\n"
     ]
    }
   ],
   "execution_count": 7
  },
  {
   "metadata": {},
   "cell_type": "markdown",
   "source": "# ***torch.nn*** Layers ",
   "id": "91fcd5fe2ae136fc"
  },
  {
   "metadata": {},
   "cell_type": "markdown",
   "source": [
    "### 1. Linear Layer \n",
    "$$z \\ = \\ X.W^T \\ + \\ b$$"
   ],
   "id": "56b4dcbd8b4da1fc"
  },
  {
   "metadata": {
    "ExecuteTime": {
     "end_time": "2024-07-09T04:47:52.636062Z",
     "start_time": "2024-07-09T04:47:52.631789Z"
    }
   },
   "cell_type": "code",
   "source": [
    "class Linear:\n",
    "    def __init__(self, in_features: int, out_features: int, bias: bool = True):\n",
    "        self.weight = torch.randn((in_features, out_features)) / in_features ** 0.5 \n",
    "        self.bias = torch.zeros(out_features) if bias else None\n",
    "        \n",
    "    def __call__(self, x):\n",
    "        self.out = x @ self.weight\n",
    "        if self.bias is not None:\n",
    "            self.out += self.bias\n",
    "        return self.out\n",
    "    \n",
    "    def parameters(self):\n",
    "        return [self.weight] + ([] if self.bias is None else [self.bias])"
   ],
   "id": "bd50ecea3d681bf4",
   "outputs": [],
   "execution_count": 53
  },
  {
   "metadata": {
    "ExecuteTime": {
     "end_time": "2024-07-09T04:47:53.000759Z",
     "start_time": "2024-07-09T04:47:52.996981Z"
    }
   },
   "cell_type": "code",
   "source": "Linear(3, 3).parameters()",
   "id": "f434bb797891479f",
   "outputs": [
    {
     "data": {
      "text/plain": [
       "[tensor([[ 0.8489,  0.4531,  0.9633],\n",
       "         [ 0.2164, -1.0741, -0.3948],\n",
       "         [ 0.0142, -0.3412,  0.6973]]),\n",
       " tensor([0., 0., 0.])]"
      ]
     },
     "execution_count": 54,
     "metadata": {},
     "output_type": "execute_result"
    }
   ],
   "execution_count": 54
  },
  {
   "metadata": {},
   "cell_type": "markdown",
   "source": [
    "### 2. BatchNorm1d \n",
    "$$ y  \\ = \\ \\frac{x \\ - \\ E[x]}{\\sqrt{Var[x]} \\ + \\ \\epsilon}*\\gamma \\ + \\ \\beta $$"
   ],
   "id": "ab24b5bbb40133fe"
  },
  {
   "metadata": {
    "ExecuteTime": {
     "end_time": "2024-07-09T04:23:50.201793Z",
     "start_time": "2024-07-09T04:23:50.198663Z"
    }
   },
   "cell_type": "code",
   "source": [
    "class BatchNorm1d:\n",
    "    def __init__(self, num_features: int, eps: float = 1e-05, momentum: float = 0.1):\n",
    "        self.eps = eps\n",
    "        self.momentum = momentum\n",
    "        self.training = True\n",
    "        \n",
    "        # parameters \n",
    "        self.gamma = torch.ones(num_features)\n",
    "        self.beta = torch.zeros(num_features)\n",
    "        \n",
    "        # buffers\n",
    "        self.moving_mean = torch.zeros(num_features)\n",
    "        self.moving_var = torch.ones(num_features)\n",
    "        \n",
    "    def __call__(self, x):\n",
    "        if self.training:\n",
    "            # while training calculate the current batch mean and variance\n",
    "            if x.ndim == 2:\n",
    "                dim = 0\n",
    "            elif x.ndim == 3:\n",
    "                dim = (0,1)\n",
    "            x_mean = x.mean(dim, keepdim = True)\n",
    "            x_var = x.var(dim, keepdim = True)\n",
    "        else:\n",
    "            # while testing use the pre-computed values for mean and variance\n",
    "            x_mean = self.moving_mean\n",
    "            x_var = self.moving_var\n",
    "        x_hat = (x - x_mean) / torch.sqrt(x_var + self.eps)\n",
    "        self.out = self.gamma * x_hat + self.beta\n",
    "        \n",
    "        # update buffers\n",
    "        if self.training:\n",
    "            with torch.no_grad():\n",
    "                self.moving_mean = (1 - self.momentum) * self.moving_mean + self.momentum * x_mean\n",
    "                self.moving_var = (1 - self.momentum) * self.moving_var + self.momentum * x_var\n",
    "        return self.out\n",
    "    \n",
    "    def parameters(self):\n",
    "        return [self.gamma, self.beta]"
   ],
   "id": "1cafb016b0782621",
   "outputs": [],
   "execution_count": 10
  },
  {
   "metadata": {
    "ExecuteTime": {
     "end_time": "2024-07-09T04:23:50.204704Z",
     "start_time": "2024-07-09T04:23:50.202257Z"
    }
   },
   "cell_type": "code",
   "source": "BatchNorm1d(3, eps=1e-05, momentum=0.1).parameters()",
   "id": "25a04abe1cf4e164",
   "outputs": [
    {
     "data": {
      "text/plain": [
       "[tensor([1., 1., 1.]), tensor([0., 0., 0.])]"
      ]
     },
     "execution_count": 11,
     "metadata": {},
     "output_type": "execute_result"
    }
   ],
   "execution_count": 11
  },
  {
   "metadata": {},
   "cell_type": "markdown",
   "source": "### 3. Embedding",
   "id": "c51750195db7a0d6"
  },
  {
   "metadata": {
    "ExecuteTime": {
     "end_time": "2024-07-09T04:23:50.206773Z",
     "start_time": "2024-07-09T04:23:50.205148Z"
    }
   },
   "cell_type": "code",
   "source": [
    "class Embedding:\n",
    "    def __init__(self, num_embeddings: int, embedding_dim: int):\n",
    "        self.weight = torch.randn((num_embeddings, embedding_dim))\n",
    "        \n",
    "    def __call__(self, idx):\n",
    "        return self.weight[idx]\n",
    "    \n",
    "    def parameters(self):\n",
    "        return [self.weight]"
   ],
   "id": "7c1d3357e4549fe0",
   "outputs": [],
   "execution_count": 12
  },
  {
   "metadata": {
    "ExecuteTime": {
     "end_time": "2024-07-09T04:23:50.210678Z",
     "start_time": "2024-07-09T04:23:50.207148Z"
    }
   },
   "cell_type": "code",
   "source": "Embedding(5, 5).parameters()",
   "id": "10ce6e1d7a99d533",
   "outputs": [
    {
     "data": {
      "text/plain": [
       "[tensor([[-0.2764,  0.6572,  0.3120, -1.9155,  0.2057],\n",
       "         [ 0.4045, -0.1234,  0.2120,  0.0409, -0.4678],\n",
       "         [-0.2231, -0.3746,  1.9151,  0.5199,  1.6371],\n",
       "         [-0.3742, -0.7303,  0.4207, -0.0730,  1.4254],\n",
       "         [-0.9124, -1.0131,  0.3700,  0.1357,  0.6166]])]"
      ]
     },
     "execution_count": 13,
     "metadata": {},
     "output_type": "execute_result"
    }
   ],
   "execution_count": 13
  },
  {
   "metadata": {},
   "cell_type": "markdown",
   "source": "### 4. Flatten ",
   "id": "ecff19c9660504d8"
  },
  {
   "metadata": {
    "ExecuteTime": {
     "end_time": "2024-07-09T04:23:50.214327Z",
     "start_time": "2024-07-09T04:23:50.212236Z"
    }
   },
   "cell_type": "code",
   "source": [
    "class nFlatten:\n",
    "    def __init__(self, n):\n",
    "        self.n = n\n",
    "        \n",
    "    def __call__(self, x):\n",
    "        B, T, C = x.shape\n",
    "        x = x.view(B, T//self.n, C*self.n)\n",
    "        if x.shape[1] == 1:\n",
    "            x = x.squeeze(1)\n",
    "        return x\n",
    "    \n",
    "    @staticmethod\n",
    "    def parameters():\n",
    "        return []"
   ],
   "id": "6c5407cf17dda041",
   "outputs": [],
   "execution_count": 14
  },
  {
   "metadata": {},
   "cell_type": "markdown",
   "source": "### 5. Sequential Container",
   "id": "44da57416106035f"
  },
  {
   "metadata": {
    "ExecuteTime": {
     "end_time": "2024-07-09T04:23:50.216998Z",
     "start_time": "2024-07-09T04:23:50.214761Z"
    }
   },
   "cell_type": "code",
   "source": [
    "class Sequential:\n",
    "    def __init__(self, layers):\n",
    "        self.layers = layers\n",
    "        \n",
    "    def __call__(self, x):\n",
    "        for layer in self.layers:\n",
    "            x = layer(x)\n",
    "        return x\n",
    "    \n",
    "    def parameters(self):\n",
    "        return [p for layer in self.layers for p in layer.parameters()]"
   ],
   "id": "a704a5325a7fdd05",
   "outputs": [],
   "execution_count": 15
  },
  {
   "metadata": {
    "ExecuteTime": {
     "end_time": "2024-07-09T04:23:50.221379Z",
     "start_time": "2024-07-09T04:23:50.217685Z"
    }
   },
   "cell_type": "code",
   "source": "Sequential([Linear(4,4), nFlatten(4), Linear(2,2)]).parameters()",
   "id": "a2e115054e7ee9d8",
   "outputs": [
    {
     "data": {
      "text/plain": [
       "[tensor([[-0.9851, -0.5391,  0.5067,  0.0242],\n",
       "         [ 0.1223,  0.7353,  0.0937, -0.0806],\n",
       "         [ 0.1913, -0.3374,  0.0307, -0.0576],\n",
       "         [-0.4139, -0.1793,  1.0350,  0.3809]]),\n",
       " tensor([0., 0., 0., 0.]),\n",
       " tensor([[ 0.1683, -1.0861],\n",
       "         [ 0.6111,  0.1342]]),\n",
       " tensor([0., 0.])]"
      ]
     },
     "execution_count": 16,
     "metadata": {},
     "output_type": "execute_result"
    }
   ],
   "execution_count": 16
  },
  {
   "metadata": {},
   "cell_type": "markdown",
   "source": "# Model Architecture",
   "id": "ab9620beaeba0cc9"
  },
  {
   "metadata": {
    "ExecuteTime": {
     "end_time": "2024-07-09T04:23:50.223720Z",
     "start_time": "2024-07-09T04:23:50.221830Z"
    }
   },
   "cell_type": "code",
   "source": "torch.manual_seed(42);",
   "id": "d722459a1a0f0e96",
   "outputs": [],
   "execution_count": 17
  },
  {
   "metadata": {
    "ExecuteTime": {
     "end_time": "2024-07-09T04:23:50.225802Z",
     "start_time": "2024-07-09T04:23:50.224252Z"
    }
   },
   "cell_type": "code",
   "source": [
    "class Tanh:\n",
    "    def __call__(self, x):\n",
    "        return torch.tanh(x)\n",
    "    \n",
    "    @staticmethod\n",
    "    def parameters():\n",
    "        return []"
   ],
   "id": "aeb445fdad1825bc",
   "outputs": [],
   "execution_count": 18
  },
  {
   "metadata": {
    "ExecuteTime": {
     "end_time": "2024-07-09T04:23:50.231565Z",
     "start_time": "2024-07-09T04:23:50.226332Z"
    }
   },
   "cell_type": "code",
   "source": [
    "n_embedding = 24\n",
    "n_hidden = 128\n",
    "\n",
    "model = Sequential([\n",
    "    Embedding(vocab_size, n_embedding),\n",
    "    nFlatten(2), Linear(n_embedding * 2, n_hidden, bias = False),\n",
    "    BatchNorm1d(n_hidden), Tanh(),\n",
    "    nFlatten(2), Linear(n_hidden * 2, n_hidden, bias = False),\n",
    "    BatchNorm1d(n_hidden), Tanh(),\n",
    "    nFlatten(2), Linear(n_hidden * 2, n_hidden, bias = False),\n",
    "    BatchNorm1d(n_hidden), Tanh(),\n",
    "    Linear(n_hidden, vocab_size)\n",
    "])\n",
    "\n",
    "with torch.no_grad():\n",
    "    model.layers[-1].weight *= 0.1\n",
    "    \n",
    "parameters = model.parameters()\n",
    "print(sum(p.nelement() for p in parameters))\n",
    "for p in parameters:\n",
    "    p.requires_grad = True"
   ],
   "id": "e26cabd442befea8",
   "outputs": [
    {
     "name": "stdout",
     "output_type": "stream",
     "text": [
      "76579\n"
     ]
    }
   ],
   "execution_count": 19
  },
  {
   "metadata": {},
   "cell_type": "markdown",
   "source": "# Model Training",
   "id": "b899578ba6b5b61f"
  },
  {
   "metadata": {
    "ExecuteTime": {
     "end_time": "2024-07-09T04:23:50.233446Z",
     "start_time": "2024-07-09T04:23:50.232072Z"
    }
   },
   "cell_type": "code",
   "source": [
    "max_steps = 200000\n",
    "batch_size = 32\n",
    "lossi = []"
   ],
   "id": "33dab5d3c2d22228",
   "outputs": [],
   "execution_count": 20
  },
  {
   "metadata": {
    "ExecuteTime": {
     "end_time": "2024-07-09T04:23:50.236286Z",
     "start_time": "2024-07-09T04:23:50.233868Z"
    }
   },
   "cell_type": "code",
   "source": [
    "def train(model, max_steps, lossi):\n",
    "    for i in range(max_steps):\n",
    "        # get data minibatch\n",
    "        idx = torch.randint(0, x_train.shape[0], (batch_size, ))\n",
    "        x_batch, y_batch = x_train[idx], y_train[idx]\n",
    "    \n",
    "        # forward pass\n",
    "        logits = model(x_batch)\n",
    "        loss = F.cross_entropy(logits, y_batch)\n",
    "    \n",
    "        # backward pass\n",
    "        for p in parameters:\n",
    "            p.grad = None\n",
    "        loss.backward()\n",
    "    \n",
    "        # parameter update\n",
    "        lr = 0.1 if i < 150000 else 0.01\n",
    "        for p in parameters:\n",
    "            p.data += -lr * p.grad\n",
    "        \n",
    "        # print stats\n",
    "        if i % 10000 == 0:\n",
    "            print(f'[{i:7d} / {max_steps:7d}] : {loss.item():.4f}')\n",
    "        lossi.append(loss.log10().item())\n"
   ],
   "id": "6f944a7cb9a72891",
   "outputs": [],
   "execution_count": 21
  },
  {
   "metadata": {
    "ExecuteTime": {
     "end_time": "2024-07-09T04:29:21.041019Z",
     "start_time": "2024-07-09T04:23:50.236786Z"
    }
   },
   "cell_type": "code",
   "source": "train(model, max_steps, lossi)",
   "id": "32b6f3a985de2a53",
   "outputs": [
    {
     "name": "stdout",
     "output_type": "stream",
     "text": [
      "[      0 /  200000] : 3.3167\n",
      "[  10000 /  200000] : 2.0576\n",
      "[  20000 /  200000] : 2.0723\n",
      "[  30000 /  200000] : 2.5134\n",
      "[  40000 /  200000] : 2.1476\n",
      "[  50000 /  200000] : 1.7836\n",
      "[  60000 /  200000] : 2.2592\n",
      "[  70000 /  200000] : 1.9331\n",
      "[  80000 /  200000] : 1.6875\n",
      "[  90000 /  200000] : 2.0395\n",
      "[ 100000 /  200000] : 1.7736\n",
      "[ 110000 /  200000] : 1.9569\n",
      "[ 120000 /  200000] : 1.7465\n",
      "[ 130000 /  200000] : 1.8126\n",
      "[ 140000 /  200000] : 1.7406\n",
      "[ 150000 /  200000] : 1.7466\n",
      "[ 160000 /  200000] : 1.8806\n",
      "[ 170000 /  200000] : 1.6266\n",
      "[ 180000 /  200000] : 1.6476\n",
      "[ 190000 /  200000] : 1.8555\n"
     ]
    }
   ],
   "execution_count": 22
  },
  {
   "metadata": {
    "ExecuteTime": {
     "end_time": "2024-07-09T04:29:21.149352Z",
     "start_time": "2024-07-09T04:29:21.041698Z"
    }
   },
   "cell_type": "code",
   "source": "plt.plot(torch.tensor(lossi).view(-1, 1000).mean(1))",
   "id": "af51da78dc88dc88",
   "outputs": [
    {
     "data": {
      "text/plain": [
       "[<matplotlib.lines.Line2D at 0x7fb9b2ed9810>]"
      ]
     },
     "execution_count": 23,
     "metadata": {},
     "output_type": "execute_result"
    },
    {
     "data": {
      "text/plain": [
       "<Figure size 640x480 with 1 Axes>"
      ],
      "image/png": "[encoded data removed]"
     },
     "metadata": {},
     "output_type": "display_data"
    }
   ],
   "execution_count": 23
  },
  {
   "metadata": {},
   "cell_type": "markdown",
   "source": "# Metrics",
   "id": "76eb2ecccded8400"
  },
  {
   "metadata": {
    "ExecuteTime": {
     "end_time": "2024-07-09T04:29:21.152273Z",
     "start_time": "2024-07-09T04:29:21.150193Z"
    }
   },
   "cell_type": "code",
   "source": [
    "for layer in model.layers:\n",
    "    layer.training = False"
   ],
   "id": "27fce44371ee1700",
   "outputs": [],
   "execution_count": 24
  },
  {
   "metadata": {
    "ExecuteTime": {
     "end_time": "2024-07-09T04:29:21.819394Z",
     "start_time": "2024-07-09T04:29:21.152899Z"
    }
   },
   "cell_type": "code",
   "source": [
    "@torch.no_grad()\n",
    "def split_loss(split):\n",
    "    x, y = {\n",
    "        'train' : (x_train, y_train),\n",
    "        'val' : (x_val, y_val),\n",
    "        'test' : (x_test, y_test)\n",
    "    }[split]\n",
    "    logits = model(x)\n",
    "    loss = F.cross_entropy(logits, y)\n",
    "    print(split, loss.item())\n",
    "    \n",
    "split_loss('train')\n",
    "split_loss('val')"
   ],
   "id": "63de3a665de7f04c",
   "outputs": [
    {
     "name": "stdout",
     "output_type": "stream",
     "text": [
      "train 1.7690280675888062\n",
      "val 1.993653416633606\n"
     ]
    }
   ],
   "execution_count": 25
  },
  {
   "metadata": {},
   "cell_type": "markdown",
   "source": "# Inference",
   "id": "298d7c740535823d"
  },
  {
   "metadata": {
    "ExecuteTime": {
     "end_time": "2024-07-09T04:29:21.874067Z",
     "start_time": "2024-07-09T04:29:21.820258Z"
    }
   },
   "cell_type": "code",
   "source": [
    "for _ in range(25):\n",
    "    out = []\n",
    "    context = [0] * block_size\n",
    "    while True:\n",
    "        logits = model(torch.tensor([context]))\n",
    "        probs = F.softmax(logits, dim = 1)\n",
    "        \n",
    "        idx = torch.multinomial(probs, num_samples = 1).item()\n",
    "        context = context[1:] + [idx]\n",
    "        out.append(idx)\n",
    "        \n",
    "        if idx == 0:\n",
    "            break\n",
    "    print(''.join(i2c[idx] for idx in out))\n",
    "        "
   ],
   "id": "7aa3786bb268aae0",
   "outputs": [
    {
     "name": "stdout",
     "output_type": "stream",
     "text": [
      "aiyanah.\n",
      "giusopf.\n",
      "lorron.\n",
      "roger.\n",
      "rhyitte.\n",
      "christell.\n",
      "jedmccee.\n",
      "kelipson.\n",
      "briyah.\n",
      "sylot.\n",
      "zennica.\n",
      "mythan.\n",
      "daxphon.\n",
      "petrit.\n",
      "adalie.\n",
      "jeniyah.\n",
      "glatipe.\n",
      "manaswi.\n",
      "yeslee.\n",
      "stephania.\n",
      "kharson.\n",
      "anabella.\n",
      "harlee.\n",
      "mangels.\n",
      "leamir.\n"
     ]
    }
   ],
   "execution_count": 26
  }
 ],
 "metadata": {
  "kernelspec": {
   "display_name": "Python 3",
   "language": "python",
   "name": "python3"
  },
  "language_info": {
   "codemirror_mode": {
    "name": "ipython",
    "version": 2
   },
   "file_extension": ".py",
   "mimetype": "text/x-python",
   "name": "python",
   "nbconvert_exporter": "python",
   "pygments_lexer": "ipython2",
   "version": "2.7.6"
  }
 },
 "nbformat": 4,
 "nbformat_minor": 5
}
