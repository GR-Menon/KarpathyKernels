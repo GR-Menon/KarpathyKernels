{
 "cells": [
  {
   "cell_type": "markdown",
   "id": "931eb5e5",
   "metadata": {},
   "source": [
    "# Table of Contents\n",
    "---\n",
    "- [Setup](#Setup)\n",
    "- [Embedding Table](#Embedding-Table)\n",
    "- [Hidden Layer](#Hidden-Layer)\n",
    "    - [Tensor operations](#Tensor-operations)\n",
    "- [Output Layer](#Output-Layer)\n",
    "- [Parameter List](#Parameter-List)\n",
    "- [Cross Entropy](#Cross-Entropy)\n",
    "- [Minibatch Gradient Descent](#Minibatch-Gradient-Descent)\n",
    "- [Learning Rate](#Learning-Rate)\n",
    "- [Scaling the Network](#Scaling-the-Network)\n",
    "    - [Parameter Initialization](#Parameter-Initialization)\n",
    "    - [Model-Training](#Model-Training)\n",
    "    - [Model-Validation](#Model-Validation)\n",
    "    - [Sampling](#Sampling)\n",
    "- [References](#References)"
   ]
  },
  {
   "cell_type": "markdown",
   "id": "dbbaced9",
   "metadata": {},
   "source": [
    "# Setup"
   ]
  },
  {
   "cell_type": "code",
   "execution_count": 132,
   "id": "fda342a8",
   "metadata": {
    "ExecuteTime": {
     "end_time": "2024-02-29T14:23:50.433152Z",
     "start_time": "2024-02-29T14:23:50.429395Z"
    }
   },
   "outputs": [],
   "source": [
    "import torch\n",
    "import torch.nn.functional as F\n",
    "\n",
    "import random\n",
    "import matplotlib.pyplot as plt\n",
    "%matplotlib inline"
   ]
  },
  {
   "cell_type": "code",
   "execution_count": 135,
   "id": "1a8f5600",
   "metadata": {
    "ExecuteTime": {
     "end_time": "2024-02-29T14:28:40.297367Z",
     "start_time": "2024-02-29T14:28:40.289992Z"
    }
   },
   "outputs": [
    {
     "data": {
      "text/plain": [
       "32033"
      ]
     },
     "execution_count": 135,
     "metadata": {},
     "output_type": "execute_result"
    }
   ],
   "source": [
    "# load data\n",
    "words = open('names.txt', 'r').read().splitlines()\n",
    "len(words)"
   ]
  },
  {
   "cell_type": "code",
   "execution_count": 136,
   "id": "95645de5",
   "metadata": {
    "ExecuteTime": {
     "end_time": "2024-02-29T14:28:40.563767Z",
     "start_time": "2024-02-29T14:28:40.556953Z"
    }
   },
   "outputs": [
    {
     "name": "stdout",
     "output_type": "stream",
     "text": [
      "{1: 'a', 2: 'b', 3: 'c', 4: 'd', 5: 'e', 6: 'f', 7: 'g', 8: 'h', 9: 'i', 10: 'j', 11: 'k', 12: 'l', 13: 'm', 14: 'n', 15: 'o', 16: 'p', 17: 'q', 18: 'r', 19: 's', 20: 't', 21: 'u', 22: 'v', 23: 'w', 24: 'x', 25: 'y', 26: 'z', 0: '.'}\n"
     ]
    }
   ],
   "source": [
    "# create vocabulary of characters\n",
    "chars = sorted(list(set(''.join(words))))\n",
    "c2i = {c:i+1 for i, c in enumerate(chars)}\n",
    "c2i['.'] = 0\n",
    "i2c = {i:c for c, i in c2i.items()}\n",
    "print(i2c)"
   ]
  },
  {
   "cell_type": "code",
   "execution_count": 137,
   "id": "69f0007c",
   "metadata": {
    "ExecuteTime": {
     "end_time": "2024-02-29T14:28:40.870590Z",
     "start_time": "2024-02-29T14:28:40.866594Z"
    }
   },
   "outputs": [],
   "source": [
    "def build_dataset(words):\n",
    "    X, y = [], []\n",
    "    for w in words:\n",
    "        context = [0] * block_size\n",
    "        for ch in w + '.':\n",
    "            idx = c2i[ch]\n",
    "            X.append(context)\n",
    "            y.append(idx)\n",
    "            context = context[1:] + [idx]\n",
    "    \n",
    "    X = torch.tensor(X)\n",
    "    y = torch.tensor(y)\n",
    "    return X, y"
   ]
  },
  {
   "cell_type": "code",
   "execution_count": 138,
   "id": "ad5c9e3f",
   "metadata": {
    "ExecuteTime": {
     "end_time": "2024-02-29T14:28:42.827956Z",
     "start_time": "2024-02-29T14:28:41.931111Z"
    }
   },
   "outputs": [],
   "source": [
    "# Train Dev Test split\n",
    "random.seed(42)\n",
    "random.shuffle(words)\n",
    "X, y = build_dataset(words)\n",
    "train_idx = int(len(words) * 0.8)\n",
    "test_idx = int(len(words)*0.9)\n",
    "X_train, y_train = build_dataset(words[:train_idx])\n",
    "X_dev, y_dev = build_dataset(words[train_idx : test_idx])\n",
    "X_test, y_test = build_dataset(words[test_idx:])"
   ]
  },
  {
   "cell_type": "code",
   "execution_count": 141,
   "id": "0ed356bc",
   "metadata": {
    "ExecuteTime": {
     "end_time": "2024-02-29T14:29:14.877895Z",
     "start_time": "2024-02-29T14:29:14.873861Z"
    }
   },
   "outputs": [
    {
     "name": "stdout",
     "output_type": "stream",
     "text": [
      "X: torch.Size([228146, 3])  y: torch.Size([228146])\n",
      "\n",
      "X_train: torch.Size([182625, 3])  y_train: torch.Size([182625])\n",
      "\n",
      "X_dev: torch.Size([22655, 3])  y_dev: torch.Size([22655])\n",
      "\n",
      "X_test: torch.Size([22866, 3])  y_test: torch.Size([22866])\n",
      "\n"
     ]
    }
   ],
   "source": [
    "print(f\"X: {X.shape}  y: {y.shape}\\n\")\n",
    "print(f\"X_train: {X_train.shape}  y_train: {y_train.shape}\\n\")\n",
    "print(f\"X_dev: {X_dev.shape}  y_dev: {y_dev.shape}\\n\")\n",
    "print(f\"X_test: {X_test.shape}  y_test: {y_test.shape}\\n\")"
   ]
  },
  {
   "cell_type": "markdown",
   "id": "e752dd8b",
   "metadata": {},
   "source": [
    "# Embedding Table"
   ]
  },
  {
   "cell_type": "code",
   "execution_count": 34,
   "id": "ec7f2ad5",
   "metadata": {
    "ExecuteTime": {
     "end_time": "2024-02-29T13:30:44.039177Z",
     "start_time": "2024-02-29T13:30:44.035078Z"
    }
   },
   "outputs": [
    {
     "data": {
      "text/plain": [
       "torch.Size([27, 2])"
      ]
     },
     "execution_count": 34,
     "metadata": {},
     "output_type": "execute_result"
    }
   ],
   "source": [
    "C = torch.randn((27,2))\n",
    "C.shape"
   ]
  },
  {
   "cell_type": "code",
   "execution_count": 35,
   "id": "dfe073c0",
   "metadata": {
    "ExecuteTime": {
     "end_time": "2024-02-29T13:30:44.533561Z",
     "start_time": "2024-02-29T13:30:44.529175Z"
    }
   },
   "outputs": [
    {
     "data": {
      "text/plain": [
       "torch.Size([228146, 3, 2])"
      ]
     },
     "execution_count": 35,
     "metadata": {},
     "output_type": "execute_result"
    }
   ],
   "source": [
    "emb = C[X]\n",
    "emb.shape"
   ]
  },
  {
   "cell_type": "code",
   "execution_count": 143,
   "id": "6a5f645f",
   "metadata": {
    "ExecuteTime": {
     "end_time": "2024-02-29T14:31:25.068781Z",
     "start_time": "2024-02-29T14:31:24.882850Z"
    }
   },
   "outputs": [
    {
     "data": {
      "image/png": "[encoded data removed]",
      "text/plain": [
       "<Figure size 800x800 with 1 Axes>"
      ]
     },
     "metadata": {},
     "output_type": "display_data"
    }
   ],
   "source": [
    "plt.figure(figsize=(8,8))\n",
    "plt.scatter(C[:,0].data, C[:,1].data, s=200)\n",
    "for i in range(C.shape[0]):\n",
    "    plt.text(C[i,0].item(), C[i,1].item(), i2c[i], ha=\"center\", va=\"center\", color='white')\n",
    "plt.grid('minor')"
   ]
  },
  {
   "cell_type": "markdown",
   "id": "47174b80",
   "metadata": {},
   "source": [
    "# Hidden Layer\n",
    "---\n",
    "- The shape of the hidden layer depends on:\n",
    "    - The size and number of embeddings.\n",
    "    - The number of neurons required in the hidden layer."
   ]
  },
  {
   "cell_type": "code",
   "execution_count": 36,
   "id": "197dde8d",
   "metadata": {
    "ExecuteTime": {
     "end_time": "2024-02-29T13:30:45.798410Z",
     "start_time": "2024-02-29T13:30:45.793218Z"
    }
   },
   "outputs": [
    {
     "data": {
      "text/plain": [
       "(torch.Size([6, 100]), torch.Size([100]))"
      ]
     },
     "execution_count": 36,
     "metadata": {},
     "output_type": "execute_result"
    }
   ],
   "source": [
    "# init weights and biases\n",
    "# no. of neurons => 100\n",
    "w1 = torch.randn((6, 100))\n",
    "b1 = torch.randn(100)\n",
    "w1.shape, b1.shape"
   ]
  },
  {
   "cell_type": "markdown",
   "id": "11b2996a",
   "metadata": {},
   "source": [
    "## Tensor operations\n",
    "---\n",
    "- `torch.cat(tensors, dim=0, *)`\n",
    "    - concatenates the given sequences of tensors in the given dimension.\n",
    "    - all tensors must have the same shape or be empty.\n",
    "    - creates a new tensor with allocated memory.\n",
    "    - **Refer** : [torch.cat()](https://pytorch.org/docs/stable/generated/torch.cat.html)\n",
    "    ---\n",
    "- `torch.unbind(input, dim=0)`\n",
    "    - returns a tuple of all slices along a given dimension, already without it.\n",
    "    - **Refer** : [torch.unbind()](https://pytorch.org/docs/stable/generated/torch.unbind.html)\n",
    "    ---\n",
    "- `Tensor.storage()`\n",
    "    - returns the underlying `TypedStorage`.\n",
    "    - **Refer** : [Tensor.storage()](https://pytorch.org/docs/stable/generated/torch.Tensor.storage.html)\n",
    "    ---\n",
    "- `Tensor.view(*shape)`\n",
    "    - returns a new tensor with same data as `self` tensor but with different shape.\n",
    "    - enables changing shape of a tensor without in-memory operations.\n",
    "    - **Refer** : [Tensor.view()](https://pytorch.org/docs/stable/generated/torch.Tensor.view.html)\n",
    "---\n",
    "For more info on PyTorch internal workings, refer : **[PyTorch Internals](http://blog.ezyang.com/2019/05/pytorch-internals/)**"
   ]
  },
  {
   "cell_type": "code",
   "execution_count": 39,
   "id": "7e05e261",
   "metadata": {
    "ExecuteTime": {
     "end_time": "2024-02-29T13:31:21.774312Z",
     "start_time": "2024-02-29T13:31:21.769113Z"
    }
   },
   "outputs": [
    {
     "name": "stdout",
     "output_type": "stream",
     "text": [
      "torch.Size([228146, 6])\n",
      "torch.Size([228146, 6])\n",
      "torch.Size([228146, 6])\n"
     ]
    }
   ],
   "source": [
    "# 3 methods of torch operations\n",
    "\n",
    "# 1.Naive method\n",
    "print(torch.cat([emb[:,0,:], emb[:,1,:], emb[:,2,:]], 1).shape)\n",
    "\n",
    "# 2. Optimized\n",
    "print(torch.cat(torch.unbind(emb, 1), 1).shape)\n",
    "\n",
    "# 3. Best\n",
    "print(emb.view(emb.shape[0],6).shape)"
   ]
  },
  {
   "cell_type": "code",
   "execution_count": 40,
   "id": "c2c57878",
   "metadata": {
    "ExecuteTime": {
     "end_time": "2024-02-29T13:31:22.777299Z",
     "start_time": "2024-02-29T13:31:22.714354Z"
    }
   },
   "outputs": [
    {
     "name": "stdout",
     "output_type": "stream",
     "text": [
      "torch.Size([228146, 100])\n"
     ]
    },
    {
     "data": {
      "text/plain": [
       "tensor([[ 0.8004,  0.6712,  0.1469,  ..., -0.8923, -0.0201, -0.3575],\n",
       "        [ 0.8868,  0.8237, -0.1074,  ..., -0.8776, -0.2545, -0.3666],\n",
       "        [ 0.9964,  0.9998, -0.8540,  ..., -0.9912, -0.8291, -0.9883],\n",
       "        ...,\n",
       "        [ 0.9328, -0.9457, -0.7113,  ..., -0.7574, -0.2544,  0.9660],\n",
       "        [ 0.5250,  0.9117,  0.9147,  ..., -0.9709,  0.8410,  0.2632],\n",
       "        [ 0.9472, -0.9755, -0.9997,  ...,  0.6133, -0.9415,  0.9964]])"
      ]
     },
     "execution_count": 40,
     "metadata": {},
     "output_type": "execute_result"
    }
   ],
   "source": [
    "h = torch.tanh(emb.view(-1, 6) @ w1 + b1)\n",
    "print(h.shape)\n",
    "h"
   ]
  },
  {
   "cell_type": "markdown",
   "id": "27e1f9f5",
   "metadata": {},
   "source": [
    "# Output Layer"
   ]
  },
  {
   "cell_type": "code",
   "execution_count": 41,
   "id": "77a09124",
   "metadata": {
    "ExecuteTime": {
     "end_time": "2024-02-29T13:31:24.048739Z",
     "start_time": "2024-02-29T13:31:24.045005Z"
    }
   },
   "outputs": [],
   "source": [
    "w2 = torch.randn((100, 27))\n",
    "b2 = torch.randn(27)"
   ]
  },
  {
   "cell_type": "code",
   "execution_count": 42,
   "id": "3c50cf54",
   "metadata": {
    "ExecuteTime": {
     "end_time": "2024-02-29T13:31:24.373708Z",
     "start_time": "2024-02-29T13:31:24.356266Z"
    }
   },
   "outputs": [
    {
     "data": {
      "text/plain": [
       "torch.Size([228146, 27])"
      ]
     },
     "execution_count": 42,
     "metadata": {},
     "output_type": "execute_result"
    }
   ],
   "source": [
    "logits = h @ w2 + b2\n",
    "logits.shape"
   ]
  },
  {
   "cell_type": "code",
   "execution_count": 43,
   "id": "4d3fee48",
   "metadata": {
    "ExecuteTime": {
     "end_time": "2024-02-29T13:31:24.589810Z",
     "start_time": "2024-02-29T13:31:24.576758Z"
    }
   },
   "outputs": [
    {
     "data": {
      "text/plain": [
       "(torch.Size([228146, 27]), tensor(1.0000))"
      ]
     },
     "execution_count": 43,
     "metadata": {},
     "output_type": "execute_result"
    }
   ],
   "source": [
    "log_counts = logits.exp()\n",
    "prob = log_counts / log_counts.sum(1, keepdims=True)\n",
    "prob.shape, prob[0].sum()"
   ]
  },
  {
   "cell_type": "code",
   "execution_count": 44,
   "id": "ae7e8df9",
   "metadata": {
    "ExecuteTime": {
     "end_time": "2024-02-29T13:31:24.854177Z",
     "start_time": "2024-02-29T13:31:24.801899Z"
    }
   },
   "outputs": [
    {
     "ename": "IndexError",
     "evalue": "shape mismatch: indexing tensors could not be broadcast together with shapes [32], [228146]",
     "output_type": "error",
     "traceback": [
      "\u001b[0;31m---------------------------------------------------------------------------\u001b[0m",
      "\u001b[0;31mIndexError\u001b[0m                                Traceback (most recent call last)",
      "Cell \u001b[0;32mIn[44], line 2\u001b[0m\n\u001b[1;32m      1\u001b[0m \u001b[38;5;66;03m# initial network probabilities\u001b[39;00m\n\u001b[0;32m----> 2\u001b[0m \u001b[43mprob\u001b[49m\u001b[43m[\u001b[49m\u001b[43mtorch\u001b[49m\u001b[38;5;241;43m.\u001b[39;49m\u001b[43marange\u001b[49m\u001b[43m(\u001b[49m\u001b[38;5;241;43m32\u001b[39;49m\u001b[43m)\u001b[49m\u001b[43m,\u001b[49m\u001b[43m \u001b[49m\u001b[43my\u001b[49m\u001b[43m]\u001b[49m\n",
      "\u001b[0;31mIndexError\u001b[0m: shape mismatch: indexing tensors could not be broadcast together with shapes [32], [228146]"
     ]
    }
   ],
   "source": [
    "# initial network probabilities\n",
    "prob[torch.arange(32), y]"
   ]
  },
  {
   "cell_type": "code",
   "execution_count": 45,
   "id": "c367d9d6",
   "metadata": {
    "ExecuteTime": {
     "end_time": "2024-02-29T13:31:25.309130Z",
     "start_time": "2024-02-29T13:31:25.276368Z"
    }
   },
   "outputs": [
    {
     "ename": "IndexError",
     "evalue": "shape mismatch: indexing tensors could not be broadcast together with shapes [32], [228146]",
     "output_type": "error",
     "traceback": [
      "\u001b[0;31m---------------------------------------------------------------------------\u001b[0m",
      "\u001b[0;31mIndexError\u001b[0m                                Traceback (most recent call last)",
      "Cell \u001b[0;32mIn[45], line 1\u001b[0m\n\u001b[0;32m----> 1\u001b[0m loss \u001b[38;5;241m=\u001b[39m \u001b[38;5;241m-\u001b[39m\u001b[43mprob\u001b[49m\u001b[43m[\u001b[49m\u001b[43mtorch\u001b[49m\u001b[38;5;241;43m.\u001b[39;49m\u001b[43marange\u001b[49m\u001b[43m(\u001b[49m\u001b[38;5;241;43m32\u001b[39;49m\u001b[43m)\u001b[49m\u001b[43m,\u001b[49m\u001b[43m \u001b[49m\u001b[43my\u001b[49m\u001b[43m]\u001b[49m\u001b[38;5;241m.\u001b[39mlog()\u001b[38;5;241m.\u001b[39mmean()\n\u001b[1;32m      2\u001b[0m loss\n",
      "\u001b[0;31mIndexError\u001b[0m: shape mismatch: indexing tensors could not be broadcast together with shapes [32], [228146]"
     ]
    }
   ],
   "source": [
    "loss = -prob[torch.arange(32), y].log().mean()\n",
    "loss"
   ]
  },
  {
   "cell_type": "markdown",
   "id": "5a1f2bdc",
   "metadata": {},
   "source": [
    "# Parameter List\n",
    "---\n",
    "- `C` : character embedding table\n",
    "- `w1`, `b1` : weights, biases of hidden layer `h`\n",
    "- `w2`, `b2` : weights, biases of output layer"
   ]
  },
  {
   "cell_type": "code",
   "execution_count": 100,
   "id": "b7d84e18",
   "metadata": {
    "ExecuteTime": {
     "end_time": "2024-02-29T13:52:11.878169Z",
     "start_time": "2024-02-29T13:52:11.873800Z"
    }
   },
   "outputs": [
    {
     "data": {
      "text/plain": [
       "(torch.Size([228146, 3]), torch.Size([228146]))"
      ]
     },
     "execution_count": 100,
     "metadata": {},
     "output_type": "execute_result"
    }
   ],
   "source": [
    "X.shape, y.shape"
   ]
  },
  {
   "cell_type": "code",
   "execution_count": 174,
   "id": "40b31269",
   "metadata": {
    "ExecuteTime": {
     "end_time": "2024-02-29T15:04:59.141314Z",
     "start_time": "2024-02-29T15:04:59.136133Z"
    }
   },
   "outputs": [],
   "source": [
    "seed = 2147483647\n",
    "gen = torch.Generator().manual_seed(seed)\n",
    "C = torch.randn((27,2), generator=gen)\n",
    "w1 = torch.randn((6,100), generator=gen)\n",
    "b1 = torch.randn(100, generator=gen)\n",
    "w2 = torch.randn((100, 27), generator=gen)\n",
    "b2 = torch.randn(27, generator=gen)\n",
    "parameters = [C, w1, b1, w2, b2]"
   ]
  },
  {
   "cell_type": "code",
   "execution_count": 175,
   "id": "627bf0c2",
   "metadata": {
    "ExecuteTime": {
     "end_time": "2024-02-29T15:05:00.201423Z",
     "start_time": "2024-02-29T15:05:00.196418Z"
    }
   },
   "outputs": [
    {
     "data": {
      "text/plain": [
       "3481"
      ]
     },
     "execution_count": 175,
     "metadata": {},
     "output_type": "execute_result"
    }
   ],
   "source": [
    "sum(p.nelement() for p in parameters)"
   ]
  },
  {
   "cell_type": "code",
   "execution_count": 176,
   "id": "42fd9802",
   "metadata": {
    "ExecuteTime": {
     "end_time": "2024-02-29T15:05:00.544708Z",
     "start_time": "2024-02-29T15:05:00.541466Z"
    }
   },
   "outputs": [],
   "source": [
    "for p in parameters:\n",
    "    p.requires_grad = True"
   ]
  },
  {
   "cell_type": "markdown",
   "id": "abd6c602",
   "metadata": {},
   "source": [
    "# Cross Entropy\n",
    "---\n",
    "- Instead of the following lines of code:\n",
    "    ```python\n",
    "    log_counts = logits.exp()\n",
    "    probs = log_counts / log_counts.sum(1, keepdims=True)\n",
    "    loss = -prob[torch.arange(32), y].log().mean()\n",
    "    ```\n",
    "    we can implement `F.cross_entropy(logits, y)`.\n",
    "- Further, `torch.exp()` can explode when given large positive numbers. `F.cross_entropy()` resolves this internally by element-wise subtraction of the largest value of the logits, such that the largest value in the logits is then 0.\n",
    "---\n",
    "**Refer** : [F.cross_entropy()](https://pytorch.org/docs/stable/generated/torch.nn.functional.cross_entropy.html)"
   ]
  },
  {
   "cell_type": "code",
   "execution_count": 51,
   "id": "463def09",
   "metadata": {
    "ExecuteTime": {
     "end_time": "2024-02-29T13:32:06.042816Z",
     "start_time": "2024-02-29T13:32:05.965978Z"
    }
   },
   "outputs": [
    {
     "data": {
      "text/plain": [
       "tensor(19.5052)"
      ]
     },
     "execution_count": 51,
     "metadata": {},
     "output_type": "execute_result"
    }
   ],
   "source": [
    "emb = C[X]\n",
    "h = torch.tanh(emb.view(-1,6) @ w1 + b1)\n",
    "logits = h @ w2 + b2\n",
    "loss = F.cross_entropy(logits, y)\n",
    "loss"
   ]
  },
  {
   "cell_type": "markdown",
   "id": "fb706b52",
   "metadata": {},
   "source": [
    "# Minibatch Gradient Descent\n",
    "---\n",
    "- Instead of iterating over the entire dataset in each step, we can iterate over batches/ mini-batches of the dataset, thereby taking smaller steps of gradient descent.\n",
    "- This leads to a quicker but noisier model convergence as shown below.\n",
    "---\n",
    "[init data](#Summary)"
   ]
  },
  {
   "cell_type": "code",
   "execution_count": 167,
   "id": "6e59431d",
   "metadata": {
    "ExecuteTime": {
     "end_time": "2024-02-29T15:01:34.152075Z",
     "start_time": "2024-02-29T15:01:34.148744Z"
    }
   },
   "outputs": [],
   "source": [
    "n_epochs = 25\n",
    "lr = 0.1\n",
    "losses = []\n",
    "steps = []"
   ]
  },
  {
   "cell_type": "code",
   "execution_count": 168,
   "id": "a274cbd9",
   "metadata": {
    "ExecuteTime": {
     "end_time": "2024-02-29T15:01:36.030783Z",
     "start_time": "2024-02-29T15:01:36.016307Z"
    }
   },
   "outputs": [
    {
     "name": "stdout",
     "output_type": "stream",
     "text": [
      "19.7116756439209\n",
      "17.807748794555664\n",
      "17.155527114868164\n",
      "15.474634170532227\n",
      "13.32128620147705\n",
      "10.765377044677734\n",
      "14.61640739440918\n",
      "14.277920722961426\n",
      "10.310137748718262\n",
      "10.69010066986084\n",
      "9.726461410522461\n",
      "10.607566833496094\n",
      "11.147387504577637\n",
      "9.527170181274414\n",
      "11.207534790039062\n",
      "7.228404521942139\n",
      "9.334579467773438\n",
      "8.84821891784668\n",
      "11.24681282043457\n",
      "7.5291595458984375\n",
      "10.099346160888672\n",
      "10.465667724609375\n",
      "8.120137214660645\n",
      "7.756718635559082\n",
      "9.541410446166992\n"
     ]
    }
   ],
   "source": [
    "# re-init training parameters before running this cell\n",
    "\n",
    "for epoch in range(n_epochs):\n",
    "    # minibatch indices\n",
    "    idx = torch.randint(0, X.shape[0], (32,))\n",
    "    \n",
    "    # forward pass\n",
    "    emb = C[X[idx]]  # (32, 3, 2)\n",
    "    h = torch.tanh(emb.view(-1,6) @ w1 + b1)\n",
    "    logits = h @ w2 + b2\n",
    "    loss = F.cross_entropy(logits, y[idx])\n",
    "    print(loss.item())\n",
    "    \n",
    "    # backward pass\n",
    "    for p in parameters:\n",
    "        p.grad = None\n",
    "    loss.backward()\n",
    "    \n",
    "    # update parameters\n",
    "    for p in parameters:\n",
    "        p.data += -lr*p.grad\n",
    "    \n",
    "    # track stats\n",
    "    losses.append(loss.item())\n",
    "    steps.append(epoch)"
   ]
  },
  {
   "cell_type": "code",
   "execution_count": 171,
   "id": "ba6573d2",
   "metadata": {
    "ExecuteTime": {
     "end_time": "2024-02-29T15:02:48.494667Z",
     "start_time": "2024-02-29T15:02:48.334332Z"
    }
   },
   "outputs": [
    {
     "data": {
      "text/plain": [
       "Text(0, 0.5, 'No. of steps')"
      ]
     },
     "execution_count": 171,
     "metadata": {},
     "output_type": "execute_result"
    },
    {
     "data": {
      "image/png": "[encoded data removed]",
      "text/plain": [
       "<Figure size 640x480 with 1 Axes>"
      ]
     },
     "metadata": {},
     "output_type": "display_data"
    }
   ],
   "source": [
    "plt.plot(steps, losses)\n",
    "plt.title(\"Loss v/s Steps\")\n",
    "plt.xlabel(\"Loss\")\n",
    "plt.ylabel(\"No. of steps\")"
   ]
  },
  {
   "cell_type": "markdown",
   "id": "34523ce3",
   "metadata": {},
   "source": [
    "# Learning Rate\n",
    "---\n",
    "- Here, we create a list of learning rates which lie within a specific range on the logarithmic scale.\n",
    "- While training, each epoch sequentially uses these learning rates, starting from very low to very high values as training proceeds.\n",
    "---\n",
    "[init data](#Summary)"
   ]
  },
  {
   "cell_type": "code",
   "execution_count": 177,
   "id": "c88d236f",
   "metadata": {
    "ExecuteTime": {
     "end_time": "2024-02-29T15:05:06.556209Z",
     "start_time": "2024-02-29T15:05:06.552133Z"
    }
   },
   "outputs": [
    {
     "data": {
      "text/plain": [
       "(tensor([-3.0000, -2.9970, -2.9940, -2.9910, -2.9880, -2.9850, -2.9820, -2.9790,\n",
       "         -2.9760, -2.9730, -2.9700, -2.9670, -2.9640, -2.9610, -2.9580, -2.9550,\n",
       "         -2.9520, -2.9489, -2.9459, -2.9429, -2.9399, -2.9369, -2.9339, -2.9309,\n",
       "         -2.9279, -2.9249, -2.9219, -2.9189, -2.9159, -2.9129, -2.9099, -2.9069,\n",
       "         -2.9039, -2.9009, -2.8979, -2.8949, -2.8919, -2.8889, -2.8859, -2.8829,\n",
       "         -2.8799, -2.8769, -2.8739, -2.8709, -2.8679, -2.8649, -2.8619, -2.8589,\n",
       "         -2.8559, -2.8529]),\n",
       " tensor([0.0010, 0.0010, 0.0010, 0.0010, 0.0010, 0.0010, 0.0010, 0.0010, 0.0011,\n",
       "         0.0011, 0.0011, 0.0011, 0.0011, 0.0011, 0.0011, 0.0011, 0.0011, 0.0011,\n",
       "         0.0011, 0.0011, 0.0011, 0.0012, 0.0012, 0.0012, 0.0012, 0.0012, 0.0012,\n",
       "         0.0012, 0.0012, 0.0012, 0.0012, 0.0012, 0.0012, 0.0013, 0.0013, 0.0013,\n",
       "         0.0013, 0.0013, 0.0013, 0.0013, 0.0013, 0.0013, 0.0013, 0.0013, 0.0014,\n",
       "         0.0014, 0.0014, 0.0014, 0.0014, 0.0014]))"
      ]
     },
     "execution_count": 177,
     "metadata": {},
     "output_type": "execute_result"
    }
   ],
   "source": [
    "lre = torch.linspace(-3, 0, 1000)  # exponents\n",
    "lrs = 10**lre  # values\n",
    "lre[:50],lrs[:50]"
   ]
  },
  {
   "cell_type": "code",
   "execution_count": 178,
   "id": "ae7f8a06",
   "metadata": {
    "ExecuteTime": {
     "end_time": "2024-02-29T15:05:07.648660Z",
     "start_time": "2024-02-29T15:05:07.279050Z"
    }
   },
   "outputs": [],
   "source": [
    "# re-init parameters before running this cell\n",
    "lre_stats = []\n",
    "loss_stats = []\n",
    "lr_stats = []\n",
    "\n",
    "n_epochs = 1000\n",
    "for epoch in range(n_epochs):\n",
    "    # minibatch indices\n",
    "    idx = torch.randint(0, X.shape[0], (32,))\n",
    "    \n",
    "    # forward pass\n",
    "    emb = C[X[idx]]  # (32, 3, 2)\n",
    "    h = torch.tanh(emb.view(-1,6) @ w1 + b1)\n",
    "    logits = h @ w2 + b2\n",
    "    loss = F.cross_entropy(logits, y[idx])\n",
    "#     print(loss.item())\n",
    "    \n",
    "    # backward pass\n",
    "    for p in parameters:\n",
    "        p.grad = None\n",
    "    loss.backward()\n",
    "    \n",
    "    # update parameters\n",
    "    lr = lrs[epoch]\n",
    "    for p in parameters:\n",
    "        p.data += -lr*p.grad\n",
    "        \n",
    "    # track stats\n",
    "    lr_stats.append(lr)\n",
    "    lre_stats.append(lre[epoch])\n",
    "    loss_stats.append(loss.item())"
   ]
  },
  {
   "cell_type": "code",
   "execution_count": 179,
   "id": "b3c80bed",
   "metadata": {
    "ExecuteTime": {
     "end_time": "2024-02-29T15:05:08.376708Z",
     "start_time": "2024-02-29T15:05:08.299560Z"
    }
   },
   "outputs": [
    {
     "data": {
      "text/plain": [
       "Text(0, 0.5, 'Loss')"
      ]
     },
     "execution_count": 179,
     "metadata": {},
     "output_type": "execute_result"
    },
    {
     "data": {
      "image/png": "[encoded data removed]",
      "text/plain": [
       "<Figure size 640x480 with 1 Axes>"
      ]
     },
     "metadata": {},
     "output_type": "display_data"
    }
   ],
   "source": [
    "plt.plot(lr_stats, loss_stats)\n",
    "plt.title(\"Learning Rate v/s Loss\")\n",
    "plt.xlabel(\"LR (base 10)\")\n",
    "plt.ylabel(\"Loss\")"
   ]
  },
  {
   "cell_type": "code",
   "execution_count": 180,
   "id": "e50da73b",
   "metadata": {
    "ExecuteTime": {
     "end_time": "2024-02-29T15:05:10.041781Z",
     "start_time": "2024-02-29T15:05:09.965611Z"
    }
   },
   "outputs": [
    {
     "data": {
      "text/plain": [
       "Text(0, 0.5, 'Loss')"
      ]
     },
     "execution_count": 180,
     "metadata": {},
     "output_type": "execute_result"
    },
    {
     "data": {
      "image/png": "[encoded data removed]",
      "text/plain": [
       "<Figure size 640x480 with 1 Axes>"
      ]
     },
     "metadata": {},
     "output_type": "display_data"
    }
   ],
   "source": [
    "plt.plot(lre_stats, loss_stats)\n",
    "plt.title(\"Learning Rate v/s Loss\")\n",
    "plt.xlabel(\"LR (base e)\")\n",
    "plt.ylabel(\"Loss\")"
   ]
  },
  {
   "cell_type": "markdown",
   "id": "4a3ca94f",
   "metadata": {},
   "source": [
    "# Scaling the Network\n",
    "---\n",
    "- Increase the number of neurons in the hidden layer from 100 to 200.\n",
    "- Increase the Embedding dimensions from (27,2) => (27,10)\n",
    "- Implement a rudimentary form of learning rate decay after specified number of steps.\n",
    "- Check model loss on train and test splits."
   ]
  },
  {
   "cell_type": "markdown",
   "id": "b287e087",
   "metadata": {},
   "source": [
    "## Parameter Initialization"
   ]
  },
  {
   "cell_type": "code",
   "execution_count": 148,
   "id": "ed6aba7b",
   "metadata": {
    "ExecuteTime": {
     "end_time": "2024-02-29T14:39:04.170441Z",
     "start_time": "2024-02-29T14:39:04.165226Z"
    }
   },
   "outputs": [],
   "source": [
    "block_size = 3\n",
    "\n",
    "g = torch.Generator().manual_seed(2147483647) # for reproducibility\n",
    "C = torch.randn((27, 10), generator=g)\n",
    "w1 = torch.randn((30, 200), generator=g)\n",
    "b1 = torch.randn(200, generator=g)\n",
    "w2 = torch.randn((200, 27), generator=g)\n",
    "b2 = torch.randn(27, generator=g)\n",
    "parameters = [C, w1, b1, w2, b2]"
   ]
  },
  {
   "cell_type": "code",
   "execution_count": 149,
   "id": "cc5e728b",
   "metadata": {
    "ExecuteTime": {
     "end_time": "2024-02-29T14:39:04.419670Z",
     "start_time": "2024-02-29T14:39:04.414574Z"
    }
   },
   "outputs": [
    {
     "data": {
      "text/plain": [
       "11897"
      ]
     },
     "execution_count": 149,
     "metadata": {},
     "output_type": "execute_result"
    }
   ],
   "source": [
    "sum(p.nelement() for p in parameters)"
   ]
  },
  {
   "cell_type": "code",
   "execution_count": 150,
   "id": "2d3a18f8",
   "metadata": {
    "ExecuteTime": {
     "end_time": "2024-02-29T14:39:04.778169Z",
     "start_time": "2024-02-29T14:39:04.774723Z"
    }
   },
   "outputs": [],
   "source": [
    "for p in parameters:\n",
    "    p.requires_grad = True"
   ]
  },
  {
   "cell_type": "code",
   "execution_count": 152,
   "id": "5b23d6b7",
   "metadata": {
    "ExecuteTime": {
     "end_time": "2024-02-29T14:40:37.798662Z",
     "start_time": "2024-02-29T14:40:37.795745Z"
    }
   },
   "outputs": [],
   "source": [
    "loss_stats = []\n",
    "step_stats = []"
   ]
  },
  {
   "cell_type": "markdown",
   "id": "1aa4eb67",
   "metadata": {},
   "source": [
    "## Model Training"
   ]
  },
  {
   "cell_type": "code",
   "execution_count": 153,
   "id": "eaf670f2",
   "metadata": {
    "ExecuteTime": {
     "end_time": "2024-02-29T14:43:11.334203Z",
     "start_time": "2024-02-29T14:40:49.311174Z"
    }
   },
   "outputs": [],
   "source": [
    "for i in range(200000):\n",
    "    # minibatch indices\n",
    "    idx = torch.randint(0, X_train.shape[0], (32,))\n",
    "\n",
    "    # forward pass\n",
    "    emb = C[X_train[idx]] # (32, 3, 10)\n",
    "    h = torch.tanh(emb.view(-1, 30) @ w1 + b1) # (32, 200)\n",
    "    logits = h @ w2 + b2 # (32, 27)\n",
    "    loss = F.cross_entropy(logits, y_train[idx])\n",
    "    #print(loss.item())\n",
    "\n",
    "    # backward pass\n",
    "    for p in parameters:\n",
    "    p.grad = None\n",
    "    loss.backward()\n",
    "\n",
    "    # update parameters\n",
    "    lr = 0.1 if i < 100000 else 0.01\n",
    "    for p in parameters:\n",
    "    p.data += -lr * p.grad\n",
    "\n",
    "    # track stats\n",
    "    step_stats.append(i)\n",
    "    loss_stats.append(loss.log10().item())"
   ]
  },
  {
   "cell_type": "code",
   "execution_count": 155,
   "id": "224fab68",
   "metadata": {
    "ExecuteTime": {
     "end_time": "2024-02-29T14:43:39.331856Z",
     "start_time": "2024-02-29T14:43:39.006950Z"
    }
   },
   "outputs": [
    {
     "data": {
      "text/plain": [
       "[<matplotlib.lines.Line2D at 0x7f8c181a0e10>]"
      ]
     },
     "execution_count": 155,
     "metadata": {},
     "output_type": "execute_result"
    },
    {
     "data": {
      "image/png": "[encoded data removed]",
      "text/plain": [
       "<Figure size 640x480 with 1 Axes>"
      ]
     },
     "metadata": {},
     "output_type": "display_data"
    }
   ],
   "source": [
    "plt.plot(step_stats, loss_stats)"
   ]
  },
  {
   "cell_type": "markdown",
   "id": "fda63a17",
   "metadata": {},
   "source": [
    "## Model Validation"
   ]
  },
  {
   "cell_type": "code",
   "execution_count": 156,
   "id": "3981fdbf",
   "metadata": {
    "ExecuteTime": {
     "end_time": "2024-02-29T14:43:40.795052Z",
     "start_time": "2024-02-29T14:43:40.688009Z"
    }
   },
   "outputs": [
    {
     "data": {
      "text/plain": [
       "tensor(2.1244, grad_fn=<NllLossBackward0>)"
      ]
     },
     "execution_count": 156,
     "metadata": {},
     "output_type": "execute_result"
    }
   ],
   "source": [
    "# training loss\n",
    "emb = C[X_train] # (32, 3, 2)\n",
    "h = torch.tanh(emb.view(-1, 30) @ w1 + b1) # (32, 100)\n",
    "logits = h @ w2 + b2 # (32, 27)\n",
    "loss = F.cross_entropy(logits, y_train)\n",
    "loss"
   ]
  },
  {
   "cell_type": "code",
   "execution_count": 157,
   "id": "dc2f2085",
   "metadata": {
    "ExecuteTime": {
     "end_time": "2024-02-29T14:43:41.708506Z",
     "start_time": "2024-02-29T14:43:41.693476Z"
    }
   },
   "outputs": [
    {
     "data": {
      "text/plain": [
       "tensor(2.1626, grad_fn=<NllLossBackward0>)"
      ]
     },
     "execution_count": 157,
     "metadata": {},
     "output_type": "execute_result"
    }
   ],
   "source": [
    "emb = C[X_dev] # (32, 3, 2)\n",
    "h = torch.tanh(emb.view(-1, 30) @ w1 + b1) # (32, 100)\n",
    "logits = h @ w2 + b2 # (32, 27)\n",
    "loss = F.cross_entropy(logits, y_dev)\n",
    "loss"
   ]
  },
  {
   "cell_type": "markdown",
   "id": "050f2c68",
   "metadata": {},
   "source": [
    "## Sampling"
   ]
  },
  {
   "cell_type": "code",
   "execution_count": 163,
   "id": "fd419a0c",
   "metadata": {
    "ExecuteTime": {
     "end_time": "2024-02-29T14:45:36.342792Z",
     "start_time": "2024-02-29T14:45:36.324002Z"
    }
   },
   "outputs": [
    {
     "name": "stdout",
     "output_type": "stream",
     "text": [
      "lain.\n",
      "joh.\n",
      "orazon.\n",
      "pelothaloer.\n",
      "ily.\n",
      "jobora.\n",
      "jaro.\n",
      "darrick.\n",
      "loryn.\n",
      "rhouilama.\n",
      "delylle.\n",
      "marageecaria.\n",
      "anyalysis.\n",
      "demancarisha.\n",
      "jabbeiadia.\n",
      "sriw.\n",
      "yith.\n",
      "kei.\n",
      "bre.\n",
      "tashermanelianya.\n"
     ]
    }
   ],
   "source": [
    "# sample from the model\n",
    "gen = torch.Generator().manual_seed(13)\n",
    "\n",
    "for i in range(20):\n",
    "    out = []\n",
    "    context = [0] * block_size\n",
    "    while True:\n",
    "        emb = C[torch.tensor([context])] # (1,block_size,d)\n",
    "        h = torch.tanh(emb.view(1, -1) @ w1 + b1)\n",
    "        logits = h @ w2 + b2\n",
    "        probs = F.softmax(logits, dim=1)\n",
    "        idx = torch.multinomial(probs, num_samples=1, generator=gen).item()\n",
    "        context = context[1:] + [idx]\n",
    "        out.append(idx)\n",
    "        if idx == 0:\n",
    "        break\n",
    "\n",
    "    print(''.join(i2c[i] for i in out))"
   ]
  },
  {
   "cell_type": "markdown",
   "id": "574b6695",
   "metadata": {},
   "source": [
    "# References\n",
    "---\n",
    "- [YouTube](https://www.youtube.com/watch?v=TCH_1BHY58I&t=569s)\n",
    "- [GitHub](https://github.com/karpathy/nn-zero-to-hero/blob/master/lectures/makemore/makemore_part2_mlp.ipynb)"
   ]
  }
 ],
 "metadata": {
  "kernelspec": {
   "display_name": "Python 3 (ipykernel)",
   "language": "python",
   "name": "python3"
  },
  "language_info": {
   "codemirror_mode": {
    "name": "ipython",
    "version": 3
   },
   "file_extension": ".py",
   "mimetype": "text/x-python",
   "name": "python",
   "nbconvert_exporter": "python",
   "pygments_lexer": "ipython3",
   "version": "3.11.5"
  },
  "toc": {
   "base_numbering": "0",
   "nav_menu": {},
   "number_sections": true,
   "sideBar": true,
   "skip_h1_title": false,
   "title_cell": "Table of Contents",
   "title_sidebar": "Contents",
   "toc_cell": false,
   "toc_position": {
    "height": "calc(100% - 180px)",
    "left": "10px",
    "top": "150px",
    "width": "340.355px"
   },
   "toc_section_display": true,
   "toc_window_display": true
  }
 },
 "nbformat": 4,
 "nbformat_minor": 5
}
